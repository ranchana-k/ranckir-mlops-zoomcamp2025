{
 "cells": [
  {
   "cell_type": "code",
   "execution_count": null,
   "id": "e24ae1de",
   "metadata": {},
   "outputs": [],
   "source": [
    "import mlflow\n",
    "\n",
    "mlflow.set_tracking_url(\"sqlite://mlflow.db\")\n",
    "mlflow.set_experiment(\"nyc_taxi_ml\")"
   ]
  }
 ],
 "metadata": {
  "language_info": {
   "name": "python"
  }
 },
 "nbformat": 4,
 "nbformat_minor": 5
}
